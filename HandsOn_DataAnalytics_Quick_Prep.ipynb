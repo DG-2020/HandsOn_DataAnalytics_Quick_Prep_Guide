{
 "cells": [
  {
   "cell_type": "markdown",
   "id": "3b48d98b-4522-431e-86c4-645f1ab0feed",
   "metadata": {},
   "source": [
    "### ***This dummy repository provides a focused and comprehensive set of technical interview questions for `Data Analytics`, `Visualization`, and `EDA fundamentals`. The included Python code and a dummy CSV file offer hands-on, practical examples to ensure we are fully prepared to demonstrate your skills and ace your next technical interview.***"
   ]
  },
  {
   "cell_type": "markdown",
   "id": "02714e36-fae8-4706-b354-7d158a14decf",
   "metadata": {},
   "source": [
    "## `01: Loading and Inspecting Data`\n",
    "\n",
    "#### **Q1: How do you load a CSV file and check for missing values and data types?**"
   ]
  },
  {
   "cell_type": "code",
   "execution_count": 1,
   "id": "dea25821-b7fa-43f0-88d5-f92df53d9e24",
   "metadata": {},
   "outputs": [
    {
     "name": "stdout",
     "output_type": "stream",
     "text": [
      "Shape of Dataset: \n",
      " (10, 5)\n",
      "\n",
      "<class 'pandas.core.frame.DataFrame'>\n",
      "RangeIndex: 10 entries, 0 to 9\n",
      "Data columns (total 5 columns):\n",
      " #   Column  Non-Null Count  Dtype  \n",
      "---  ------  --------------  -----  \n",
      " 0   CustID  10 non-null     int64  \n",
      " 1   Age     8 non-null      float64\n",
      " 2   Gender  10 non-null     object \n",
      " 3   Income  9 non-null      float64\n",
      " 4   Churn   10 non-null     int64  \n",
      "dtypes: float64(2), int64(2), object(1)\n",
      "memory usage: 532.0+ bytes\n",
      "Data Information: \n",
      " None\n",
      "\n",
      "Random 5 Sample rows:\n",
      "    CustID   Age  Gender   Income  Churn\n",
      "1       2  30.0  Female  50000.0      1\n",
      "6       7  20.0    Male  48000.0      1\n",
      "2       3  35.0  Female  60000.0      0\n",
      "7       8  50.0  Female      NaN      0\n",
      "9      10  32.0  Female  58000.0      0\n",
      "\n"
     ]
    }
   ],
   "source": [
    "# Importing Libraries\n",
    "import pandas as pd\n",
    "import numpy as np\n",
    "\n",
    "# Dummy CSV Creation\n",
    "data = {\n",
    "    \"CustID\": range(1, 11),\n",
    "    \"Age\": [25, 30, 35, np.nan, 40, 45, 20, 50, np.nan, 32],\n",
    "    \"Gender\": [\"Male\", \"Female\", \"Female\", \"Male\", \"Male\", \"Female\", \"Male\", \"Female\", \"Male\", \"Female\"], \n",
    "    \"Income\": [40000, 50000, 60000, 55000, 45000, 70000, 48000, np.nan, 52000, 58000],\n",
    "    \"Churn\":[0, 1, 0, 1, 0, 0, 1, 0, 1, 0]\n",
    "}\n",
    "\n",
    "gen_df = pd.DataFrame(data)\n",
    "gen_df.to_csv(\"dummy_cust.csv\", index = False)\n",
    "## 'INDEX = FALSE' here make the output apepars to be much cleaner as the extra column at the \n",
    "## beginning with index numbers (0,1,2,...) is eliminated.\n",
    "\n",
    "# Load CSV File\n",
    "gen_df = pd.read_csv(\"dummy_cust.csv\")\n",
    "\n",
    "# Inspect\n",
    "print(f\"Shape of Dataset: \\n {gen_df.shape}\\n\")\n",
    "print(f\"Data Information: \\n {gen_df.info()}\\n\")\n",
    "print(f\"Random 5 Sample rows:\\n {gen_df.sample(5)}\\n\")\n",
    "#print(f\"Data Types:\\n {gen_df.dtypes}\\n\")"
   ]
  },
  {
   "cell_type": "markdown",
   "id": "af9fbeaf-7cf4-47d5-a08c-b53efb637ab8",
   "metadata": {},
   "source": [
    "## `02: Summary Statistics and Data Understanding`\n",
    "\n",
    "#### **Q2: How would you generate Summary Statistics and Detect Outliers?**"
   ]
  },
  {
   "cell_type": "code",
   "execution_count": 2,
   "id": "f2ced864-9243-41ad-b0f0-9b1a19b02e4c",
   "metadata": {},
   "outputs": [
    {
     "name": "stdout",
     "output_type": "stream",
     "text": [
      "Data Statistics: \n",
      "           CustID        Age Gender        Income      Churn\n",
      "count   10.00000   8.000000     10      9.000000  10.000000\n",
      "unique       NaN        NaN      2           NaN        NaN\n",
      "top          NaN        NaN   Male           NaN        NaN\n",
      "freq         NaN        NaN      5           NaN        NaN\n",
      "mean     5.50000  34.625000    NaN  53111.111111   0.400000\n",
      "std      3.02765  10.056093    NaN   8908.485343   0.516398\n",
      "min      1.00000  20.000000    NaN  40000.000000   0.000000\n",
      "25%      3.25000  28.750000    NaN  48000.000000   0.000000\n",
      "50%      5.50000  33.500000    NaN  52000.000000   0.000000\n",
      "75%      7.75000  41.250000    NaN  58000.000000   1.000000\n",
      "max     10.00000  50.000000    NaN  70000.000000   1.000000\n"
     ]
    }
   ],
   "source": [
    "# Summary\n",
    "print(f\"Data Statistics: \\n {gen_df.describe(include = 'all')}\")"
   ]
  },
  {
   "cell_type": "code",
   "execution_count": 3,
   "id": "f9801c40-7dd0-4124-907f-8681e7a92c05",
   "metadata": {},
   "outputs": [
    {
     "name": "stdout",
     "output_type": "stream",
     "text": [
      "\n",
      "Outliers:\n",
      " Empty DataFrame\n",
      "Columns: [CustID, Age, Gender, Income, Churn]\n",
      "Index: []\n"
     ]
    }
   ],
   "source": [
    "# Detecting Outliers with IQR\n",
    "Q1 = gen_df['Income'].quantile(0.25)\n",
    "Q3 = gen_df['Income'].quantile(0.75)\n",
    "IQR = Q3 - Q1\n",
    "outliers = gen_df[(gen_df['Income'] < (Q1 - 1.5 * IQR)) | (gen_df['Income'] > (Q3 + 1.5 * IQR))]\n",
    "print(\"\\nOutliers:\\n\", outliers)"
   ]
  },
  {
   "cell_type": "markdown",
   "id": "60cd4904-3099-4589-865b-86b21450179e",
   "metadata": {},
   "source": [
    "## `03: Data Cleaning`\n",
    "\n",
    "#### **Q3: How would you handle Missing Values in the dataset?**"
   ]
  },
  {
   "cell_type": "code",
   "execution_count": 4,
   "id": "37c73e76-7197-47c0-8467-22ae15bf5691",
   "metadata": {},
   "outputs": [
    {
     "name": "stdout",
     "output_type": "stream",
     "text": [
      "Dataset filled with MEAN values:\n",
      "   CustID     Age  Gender   Income  Churn\n",
      "6       7  20.000    Male  48000.0      1\n",
      "2       3  35.000  Female  60000.0      0\n",
      "5       6  45.000  Female  70000.0      0\n",
      "1       2  30.000  Female  50000.0      1\n",
      "3       4  34.625    Male  55000.0      1\n",
      "7       8  50.000  Female      NaN      0\n",
      "4       5  40.000    Male  45000.0      0\n",
      "0       1  25.000    Male  40000.0      0\n",
      "8       9  34.625    Male  52000.0      1\n",
      "9      10  32.000  Female  58000.0      0\n",
      "\n",
      "Dataset filled with MEDIAN values:\n",
      "   CustID     Age  Gender   Income  Churn\n",
      "5       6  45.000  Female  70000.0      0\n",
      "9      10  32.000  Female  58000.0      0\n",
      "3       4  34.625    Male  55000.0      1\n",
      "8       9  34.625    Male  52000.0      1\n",
      "6       7  20.000    Male  48000.0      1\n",
      "1       2  30.000  Female  50000.0      1\n",
      "2       3  35.000  Female  60000.0      0\n",
      "4       5  40.000    Male  45000.0      0\n",
      "0       1  25.000    Male  40000.0      0\n",
      "7       8  50.000  Female  52000.0      0\n"
     ]
    },
    {
     "name": "stderr",
     "output_type": "stream",
     "text": [
      "C:\\Users\\deepe\\AppData\\Local\\Temp\\ipykernel_9684\\3347765841.py:2: FutureWarning: A value is trying to be set on a copy of a DataFrame or Series through chained assignment using an inplace method.\n",
      "The behavior will change in pandas 3.0. This inplace method will never work because the intermediate object on which we are setting values always behaves as a copy.\n",
      "\n",
      "For example, when doing 'df[col].method(value, inplace=True)', try using 'df.method({col: value}, inplace=True)' or df[col] = df[col].method(value) instead, to perform the operation inplace on the original object.\n",
      "\n",
      "\n",
      "  gen_df['Age'].fillna(gen_df['Age'].mean(), inplace =True)\n",
      "C:\\Users\\deepe\\AppData\\Local\\Temp\\ipykernel_9684\\3347765841.py:6: FutureWarning: A value is trying to be set on a copy of a DataFrame or Series through chained assignment using an inplace method.\n",
      "The behavior will change in pandas 3.0. This inplace method will never work because the intermediate object on which we are setting values always behaves as a copy.\n",
      "\n",
      "For example, when doing 'df[col].method(value, inplace=True)', try using 'df.method({col: value}, inplace=True)' or df[col] = df[col].method(value) instead, to perform the operation inplace on the original object.\n",
      "\n",
      "\n",
      "  gen_df['Income'].fillna(gen_df['Income'].median(), inplace = True)\n"
     ]
    }
   ],
   "source": [
    "## Option-1: Fill with MEAN\n",
    "gen_df['Age'].fillna(gen_df['Age'].mean(), inplace =True)\n",
    "print(f\"Dataset filled with MEAN values:\\n{gen_df.sample(10)}\")\n",
    "\n",
    "## Option-2: Fill with MEDIAN\n",
    "gen_df['Income'].fillna(gen_df['Income'].median(), inplace = True)\n",
    "print(f\"\\nDataset filled with MEDIAN values:\\n{gen_df.sample(10)}\")"
   ]
  },
  {
   "cell_type": "markdown",
   "id": "2d1df0df-e6dd-4759-8165-47b0c9fc19c6",
   "metadata": {},
   "source": [
    "## `04: Data Visualization`\n",
    "\n",
    "#### **Q4: How do you visualise the distribution of NUMERICAL and CATEGORICAL Variables?**"
   ]
  },
  {
   "cell_type": "code",
   "execution_count": 5,
   "id": "5b1e5140-9eae-4afb-8a78-1d1293b172b4",
   "metadata": {},
   "outputs": [
    {
     "data": {
      "image/png": "[encoded data removed]",
      "text/plain": [
       "<Figure size 640x480 with 1 Axes>"
      ]
     },
     "metadata": {},
     "output_type": "display_data"
    }
   ],
   "source": [
    "import matplotlib.pyplot as plt\n",
    "\n",
    "# Histogram\n",
    "gen_df['Age'].plot(kind = \"hist\", bins = 5, title = \"Age Distribution\")\n",
    "plt.show()"
   ]
  },
  {
   "cell_type": "code",
   "execution_count": 6,
   "id": "dc06c0e1-cd52-49a5-b1bd-84aba512e70d",
   "metadata": {},
   "outputs": [
    {
     "data": {
      "image/png": "[encoded data removed]",
      "text/plain": [
       "<Figure size 640x480 with 1 Axes>"
      ]
     },
     "metadata": {},
     "output_type": "display_data"
    }
   ],
   "source": [
    "# Bar Plot for Gender\n",
    "gen_df['Gender'].value_counts().plot(kind = \"bar\", title = \"Gender Counts\")\n",
    "plt.show()"
   ]
  },
  {
   "cell_type": "markdown",
   "id": "cc29226a-0922-4078-9f31-ad08bd1d33f8",
   "metadata": {},
   "source": [
    "## `05: Correlation Analysis`\n",
    "\n",
    "#### **Q5: How would you check the correlation between VARIABLES?**"
   ]
  },
  {
   "cell_type": "code",
   "execution_count": 7,
   "id": "15b14d25-9322-4cd4-a01b-5c8636434c5d",
   "metadata": {},
   "outputs": [
    {
     "data": {
      "image/png": "[encoded data removed]",
      "text/plain": [
       "<Figure size 640x480 with 2 Axes>"
      ]
     },
     "metadata": {},
     "output_type": "display_data"
    }
   ],
   "source": [
    "import seaborn as sns\n",
    "\n",
    "## Correlation Analysis\n",
    "corr = gen_df.corr(numeric_only = True)\n",
    "sns.heatmap(corr, annot = True, cmap = \"coolwarm\")\n",
    "plt.title(\"Correlation Heatmap\")\n",
    "plt.show()"
   ]
  },
  {
   "cell_type": "markdown",
   "id": "899f88cb-5621-4274-a24c-0c2bb7995a95",
   "metadata": {},
   "source": [
    "## `06: Grouping & Aggregation`\n",
    "\n",
    "#### **Q6: How do you analyse AVERAGE Income by Gender?**"
   ]
  },
  {
   "cell_type": "code",
   "execution_count": 8,
   "id": "e5625f78-e180-4a0d-bc86-b9c0cfce49b2",
   "metadata": {},
   "outputs": [
    {
     "name": "stdout",
     "output_type": "stream",
     "text": [
      "Average Income Gender Wise:\n",
      "Gender\n",
      "Female    58000.0\n",
      "Male      48000.0\n",
      "Name: Income, dtype: float64\n"
     ]
    }
   ],
   "source": [
    "avg_income = gen_df.groupby(\"Gender\")[\"Income\"].mean()\n",
    "print(f\"Average Income Gender Wise:\\n{avg_income}\")"
   ]
  },
  {
   "cell_type": "markdown",
   "id": "b41773d7-8c17-40bf-a50f-15294a526e55",
   "metadata": {},
   "source": [
    "## `07: Feature Relationship`\n",
    "\n",
    "#### **Q7: How would you VISUALISE the relationship between Age and Income?**"
   ]
  },
  {
   "cell_type": "code",
   "execution_count": 9,
   "id": "dbd802b4-1b92-4799-bf80-2f421ed612bf",
   "metadata": {},
   "outputs": [
    {
     "data": {
      "image/png": "[encoded data removed]",
      "text/plain": [
       "<Figure size 640x480 with 1 Axes>"
      ]
     },
     "metadata": {},
     "output_type": "display_data"
    }
   ],
   "source": [
    "scatter = plt.scatter(gen_df['Age'], gen_df['Income'], c = gen_df['Churn'], cmap = 'bwr')\n",
    "handles, _ = scatter.legend_elements()\n",
    "labels = ['No', 'Yes']\n",
    "plt.legend(handles = handles, labels = labels, title = 'Churn')\n",
    "plt.title(\"Age Vs. Income (color by Churn)\")\n",
    "plt.xlabel(\"Age\")\n",
    "plt.ylabel(\"Income\")\n",
    "plt.show()"
   ]
  },
  {
   "cell_type": "markdown",
   "id": "787ba100-bdfb-49ee-a0f4-d59d92ecf86f",
   "metadata": {},
   "source": [
    "## `08: Categorical vs. Target Analysis`\n",
    "\n",
    "#### **Q8: How do you check CHURN RATE by GENDER?**"
   ]
  },
  {
   "cell_type": "code",
   "execution_count": 10,
   "id": "d972d45a-7cee-4ea9-9758-be3a6a1dc901",
   "metadata": {},
   "outputs": [
    {
     "name": "stdout",
     "output_type": "stream",
     "text": [
      "Churn Rate by Gender:\n",
      "Gender\n",
      "Female    20.0%\n",
      "Male      60.0%\n",
      "Name: Churn, dtype: string\n"
     ]
    }
   ],
   "source": [
    "churn_rate = (gen_df.groupby(\"Gender\")[\"Churn\"].mean()*100).astype('string')+ '%'\n",
    "## Alternatively \n",
    "# churn_rate.apply(lambda x: f\"{x:.2f}%\") \n",
    "\n",
    "print(f\"Churn Rate by Gender:\\n{churn_rate}\")"
   ]
  },
  {
   "cell_type": "markdown",
   "id": "d3967ed3-3e9b-45ea-ad39-d732f2993450",
   "metadata": {},
   "source": [
    "## `09: Pivot Table Analysis`\n",
    "\n",
    "#### **Q9: Hw would you create a pivot table based on GENDER and AGE GROUP?**"
   ]
  },
  {
   "cell_type": "code",
   "execution_count": 11,
   "id": "9ac470c7-bf47-42c1-b076-1c0ba386a9da",
   "metadata": {},
   "outputs": [
    {
     "name": "stdout",
     "output_type": "stream",
     "text": [
      "Churn based on Gender & Age Group:\n",
      "AgeGroup  20-30     30-40  40-50\n",
      "Gender                          \n",
      "Female      1.0  0.000000    0.0\n",
      "Male        0.0  0.666667    NaN\n"
     ]
    }
   ],
   "source": [
    "gen_df['AgeGroup'] = pd.cut(gen_df['Age'],\n",
    "                            bins = [20, 30, 40, 50, 60],\n",
    "                            labels = [\"20-30\", \"30-40\", \"40-50\", \"50-60\"])\n",
    "pivot = pd.pivot_table(gen_df, values = 'Churn', index = 'Gender', columns = 'AgeGroup', aggfunc = 'mean', observed = False)\n",
    "print(f\"Churn based on Gender & Age Group:\\n{pivot}\")"
   ]
  },
  {
   "cell_type": "markdown",
   "id": "aaf61e2a-cc18-4f53-a52d-af86b2f39fba",
   "metadata": {},
   "source": [
    "## `10: Insights & Recommendations`"
   ]
  },
  {
   "cell_type": "markdown",
   "id": "ee5ba76c-9df1-45c0-b62a-927b9b27e164",
   "metadata": {},
   "source": [
    "### ***`10.1: INSIGHTS`***\n",
    "**01 - Data Gaps**\n",
    "\n",
    "*1.1: A few customers don’t have their age or income recorded. That hints at some lapses in data collection.*\n",
    "\n",
    "**02 - Who Our Customers Are**\n",
    "\n",
    "*2.1: Most of our customers fall between 25–50 years old, so we’re dealing mostly with working professionals.*\n",
    "\n",
    "*2.2: The gender split looks fairly balanced.*\n",
    "\n",
    "**03 - Earnings Picture**\n",
    "\n",
    "*3.1: On average, people are earning about 50k–55k.*\n",
    "\n",
    "*3.2: There are a couple of customers on the far high/low end, but most stay in this middle range.*\n",
    "\n",
    "**04 - Churn Story**\n",
    "\n",
    "*4.1: About 4 in 10 customers leave.*\n",
    "\n",
    "*4.2: Looking deeper: men are churning at nearly double the rate of women.*\n",
    "\n",
    "**05 - Patterns in Age & Income**\n",
    "\n",
    "*5.1: Older customers tend to earn more, which makes sense.*\n",
    "\n",
    "*5.2: Younger and lower-income customers are leaving more often than others.*\n",
    "\n",
    "**06 - Segment View**\n",
    "\n",
    "*6.1: Customers in their 20s are the hardest to retain.*\n",
    "\n",
    "*6.2: Customers in their 40s and above stick around longer, especially women with higher incomes.*"
   ]
  },
  {
   "cell_type": "markdown",
   "id": "9159ce1b-f510-4ac6-a594-76972d32bef4",
   "metadata": {},
   "source": [
    "### ***`10.2: RECOMMENDATIONS`***\n",
    "\n",
    "**`01 -`** *Fix the basics first: We should improve how we capture customer data so things like income and age aren’t missing.*\n",
    "\n",
    "**`02 -`** *Keep young customers engaged: People in their 20s are leaving the most, so we might need special onboarding, loyalty perks, or more personalised offers to keep them interested.*\n",
    "\n",
    "**`03 -`** *Focus on men: Men seem less loyal compared to women in this sample. It might be worth digging into why, and designing campaigns tailored for them.*\n",
    "\n",
    "**`04 -`** *Segment by income: Lower-income customers are more likely to drop off — maybe they need cheaper plans or flexible options. High-income customers, on the other hand, might respond better to premium benefits or exclusivity.*\n",
    "\n",
    "**`05 -`** *Dig deeper: We should also collect more behaviour-related data (like purchase frequency or usage patterns) to really understand what drives churn and maybe even predict it before it happens.*"
   ]
  },
  {
   "cell_type": "markdown",
   "id": "5cbd4100-bdcb-49df-900a-53fdc43d8669",
   "metadata": {},
   "source": [
    "## ***`Summary of EDA Process`***\n",
    "\n",
    "#### **`01:` Load & inspect data**\n",
    "\n",
    "#### **`02:` Check missing values**\n",
    "\n",
    "#### **`03:` Handle missing/outliers**\n",
    "\n",
    "#### **`04:` Summary statistics**\n",
    "\n",
    "#### **`05:` Visualizations (hist, bar, scatter, heatmap)**\n",
    "\n",
    "#### **`06:` Grouping & pivot analysis**\n",
    "\n",
    "#### **`07:` Insights**"
   ]
  },
  {
   "cell_type": "code",
   "execution_count": null,
   "id": "2e04b290-c227-483c-82e5-7d02e7fc283c",
   "metadata": {},
   "outputs": [],
   "source": []
  }
 ],
 "metadata": {
  "kernelspec": {
   "display_name": "Python [conda env:base] *",
   "language": "python",
   "name": "conda-base-py"
  },
  "language_info": {
   "codemirror_mode": {
    "name": "ipython",
    "version": 3
   },
   "file_extension": ".py",
   "mimetype": "text/x-python",
   "name": "python",
   "nbconvert_exporter": "python",
   "pygments_lexer": "ipython3",
   "version": "3.12.11"
  }
 },
 "nbformat": 4,
 "nbformat_minor": 5
}
